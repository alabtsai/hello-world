{
 "cells": [
  {
   "cell_type": "code",
   "execution_count": 29,
   "metadata": {},
   "outputs": [],
   "source": [
    "from math import sqrt\n",
    "def csamp(Cgs,Cgd,CL,Rs,RL,gm):\n",
    "    a=Rs*RL * (Cgs*Cgd + Cgs*CL + Cgd*CL)\n",
    "    t1=Cgs*Rs\n",
    "    t2=CL*RL\n",
    "    t3=Cgd*(Rs+RL+gm*Rs*RL)\n",
    "    b=t1+t2+t3\n",
    "    s1=(-b+sqrt(b**2-4*a))/(2*a)\n",
    "    s2=(-b-sqrt(b**2-4*a))/(2*a)\n",
    "    print(\"t1,t2,t3\",t1,t2,t3)\n",
    "    print(\"s1,s2\",s1,s2)\n",
    "    print(\"s1*1000,s2*1000\",s1*1000,s2*1000)\n",
    "    print(\"s1*1000/2/3.1416,s2*1000/2/3.1416\",s1*1000/2/3.1416,s2*1000/2/3.1416)\n",
    "    print(\"1/b*1000\",1/b*1000)\n",
    "    print(\"1/b*1000/2/3.1416\",1/b*1000/2/3.1416)"
   ]
  },
  {
   "cell_type": "code",
   "execution_count": 30,
   "metadata": {},
   "outputs": [
    {
     "name": "stdout",
     "output_type": "stream",
     "text": [
      "t1,t2,t3 1.2000000000000002 0.30000000000000004 0.45\n",
      "s1,s2 -0.6020392985403912 -3.4604607014596085\n",
      "s1*1000,s2*1000 -602.0392985403912 -3460.4607014596086\n",
      "s1*1000/2/3.1416,s2*1000/2/3.1416 -95.81730623573836 -550.7481381238237\n",
      "1/b*1000 512.8205128205128\n",
      "1/b*1000/2/3.1416 81.6177286765522\n"
     ]
    }
   ],
   "source": [
    "csamp(Cgs=12,Cgd=2,CL=12,Rs=0.1,RL=0.025,gm=40)"
   ]
  },
  {
   "cell_type": "code",
   "execution_count": 24,
   "metadata": {},
   "outputs": [
    {
     "name": "stdout",
     "output_type": "stream",
     "text": [
      "t1,t2,t3 1.2000000000000002 0.30000000000000004 0.45\n",
      "s1,s2 -0.6020392985403912 -3.4604607014596085\n",
      "s1*1000,s2*1000 -602.0392985403912 -3460.4607014596086\n",
      "s1*1000/2/3.1416,s2*1000/2/3.1416 -95.81730623573836 -550.7481381238237\n"
     ]
    }
   ],
   "source": [
    "csamp(Cgs=12,Cgd=2,CL=12,Rs=0.1,RL=0.025,gm=40)"
   ]
  },
  {
   "cell_type": "code",
   "execution_count": null,
   "metadata": {},
   "outputs": [],
   "source": []
  }
 ],
 "metadata": {
  "kernelspec": {
   "display_name": "Python 3",
   "language": "python",
   "name": "python3"
  },
  "language_info": {
   "codemirror_mode": {
    "name": "ipython",
    "version": 3
   },
   "file_extension": ".py",
   "mimetype": "text/x-python",
   "name": "python",
   "nbconvert_exporter": "python",
   "pygments_lexer": "ipython3",
   "version": "3.6.4"
  }
 },
 "nbformat": 4,
 "nbformat_minor": 2
}
