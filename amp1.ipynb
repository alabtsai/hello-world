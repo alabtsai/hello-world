{
 "cells": [
  {
   "cell_type": "markdown",
   "metadata": {},
   "source": [
    "## Common source amplifier design equation\n",
    "## Capacitor: pF,   Resistor : k"
   ]
  },
  {
   "cell_type": "code",
   "execution_count": 23,
   "metadata": {},
   "outputs": [],
   "source": [
    "from math import sqrt\n",
    "def csamp(Cgs,Cgd,CL,Rs,RL,gm):\n",
    "    a=Rs*RL * (Cgs*Cgd + Cgs*CL + Cgd*CL)\n",
    "    t1=Cgs*Rs\n",
    "    t2=CL*RL\n",
    "    t3=Cgd*(Rs+RL+gm*Rs*RL)\n",
    "    b=t1+t2+t3\n",
    "    s1=(-b+sqrt(b**2-4*a))/(2*a)\n",
    "    s2=(-b-sqrt(b**2-4*a))/(2*a)\n",
    "    print(\"time in ns, pole in Meg rad/sec\")\n",
    "    print(\"t_Cgs:\",t1, \"t_CL:\",t2, \"t_Cgd:\",t3)\n",
    "    print(\"pole 1: %.4f Meg rad/sec pole 2: %.4f Meg rad/sec\" % (s1*1000,s2*1000) )   \n",
    "    print(\"Dominant pole approx: %.2f Meg rad/sec\" % (1/b*1000) )"
   ]
  },
  {
   "cell_type": "code",
   "execution_count": 24,
   "metadata": {},
   "outputs": [
    {
     "name": "stdout",
     "output_type": "stream",
     "text": [
      "time in ns, pole in Meg rad/sec\n",
      "t_Cgs: 2 t_CL: 1.36363636 t_Cgd: 3.72727272\n",
      "pole 1: -168.2425 Meg rad/sec pole 2: -871.7575 Meg rad/sec\n",
      "Dominant pole approx: 141.03 Meg rad/sec\n"
     ]
    }
   ],
   "source": [
    "csamp(Cgs=2,Cgd=1,CL=1,Rs=1,RL=1.36363636,gm=1)"
   ]
  },
  {
   "cell_type": "code",
   "execution_count": 20,
   "metadata": {},
   "outputs": [],
   "source": [
    "def cgin(gm,ro,RL):\n",
    "    rin=(RL+ro)/(1+gm*ro)\n",
    "    return rin"
   ]
  },
  {
   "cell_type": "code",
   "execution_count": 21,
   "metadata": {},
   "outputs": [
    {
     "data": {
      "text/plain": [
       "1.3636363636363635"
      ]
     },
     "execution_count": 21,
     "metadata": {},
     "output_type": "execute_result"
    }
   ],
   "source": [
    "cgin(2,5,10)"
   ]
  },
  {
   "cell_type": "code",
   "execution_count": null,
   "metadata": {},
   "outputs": [],
   "source": []
  }
 ],
 "metadata": {
  "kernelspec": {
   "display_name": "Python 3",
   "language": "python",
   "name": "python3"
  },
  "language_info": {
   "codemirror_mode": {
    "name": "ipython",
    "version": 3
   },
   "file_extension": ".py",
   "mimetype": "text/x-python",
   "name": "python",
   "nbconvert_exporter": "python",
   "pygments_lexer": "ipython3",
   "version": "3.6.5"
  }
 },
 "nbformat": 4,
 "nbformat_minor": 2
}
