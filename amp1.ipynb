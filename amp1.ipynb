{
 "cells": [
  {
   "cell_type": "markdown",
   "metadata": {},
   "source": [
    "## common source amplifier design equation"
   ]
  },
  {
   "cell_type": "code",
   "execution_count": 14,
   "metadata": {},
   "outputs": [],
   "source": [
    "from math import sqrt\n",
    "def csamp(Cgs,Cgd,CL,Rs,RL,gm):\n",
    "    a=Rs*RL * (Cgs*Cgd + Cgs*CL + Cgd*CL)\n",
    "    t1=Cgs*Rs\n",
    "    t2=CL*RL\n",
    "    t3=Cgd*(Rs+RL+gm*Rs*RL)\n",
    "    b=t1+t2+t3\n",
    "    s1=(-b+sqrt(b**2-4*a))/(2*a)\n",
    "    s2=(-b-sqrt(b**2-4*a))/(2*a)\n",
    "    print(\"time in ns, pole in Meg rad/sec\")\n",
    "    print(\"t_Cgs:\",t1, \"t_CL:\",t2, \"t_Cgd:\",t3)\n",
    "    print(\"pole 1:\",s1*1000,\"pole 2:\",s2*1000)   \n",
    "    print(\"Dominant pole approx: \",1/b*1000) "
   ]
  },
  {
   "cell_type": "code",
   "execution_count": 15,
   "metadata": {},
   "outputs": [
    {
     "name": "stdout",
     "output_type": "stream",
     "text": [
      "time in ns, pole in Meg rad/sec\n",
      "t_Cgs: 2 t_CL: 25 t_Cgd: 51\n",
      "pole 1: -13.095332923689512 pole 2: -610.9046670763105\n",
      "Dominant pole approx:  12.82051282051282\n"
     ]
    }
   ],
   "source": [
    "csamp(Cgs=2,Cgd=1,CL=1,Rs=1,RL=25,gm=1)"
   ]
  },
  {
   "cell_type": "code",
   "execution_count": 16,
   "metadata": {},
   "outputs": [
    {
     "name": "stdout",
     "output_type": "stream",
     "text": [
      "time in ns, pole in Meg rad/sec\n",
      "t_Cgs: 1.2000000000000002 t_CL: 0.30000000000000004 t_Cgd: 0.45\n",
      "pole 1: -602.0392985403912 pole 2: -3460.4607014596086\n",
      "Dominant pole approx:  512.8205128205128\n"
     ]
    }
   ],
   "source": [
    "csamp(Cgs=12,Cgd=2,CL=12,Rs=0.1,RL=0.025,gm=40)"
   ]
  },
  {
   "cell_type": "code",
   "execution_count": null,
   "metadata": {
    "collapsed": true
   },
   "outputs": [],
   "source": []
  }
 ],
 "metadata": {
  "kernelspec": {
   "display_name": "Python 3",
   "language": "python",
   "name": "python3"
  },
  "language_info": {
   "codemirror_mode": {
    "name": "ipython",
    "version": 3
   },
   "file_extension": ".py",
   "mimetype": "text/x-python",
   "name": "python",
   "nbconvert_exporter": "python",
   "pygments_lexer": "ipython3",
   "version": "3.6.3"
  }
 },
 "nbformat": 4,
 "nbformat_minor": 2
}
