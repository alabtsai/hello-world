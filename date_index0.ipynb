{
 "cells": [
  {
   "cell_type": "code",
   "execution_count": 1,
   "metadata": {},
   "outputs": [
    {
     "name": "stderr",
     "output_type": "stream",
     "text": [
      "/home/howard/practica_python_1/env/lib/python3.6/importlib/_bootstrap.py:219: RuntimeWarning: numpy.dtype size changed, may indicate binary incompatibility. Expected 96, got 88\n",
      "  return f(*args, **kwds)\n",
      "/home/howard/practica_python_1/env/lib/python3.6/importlib/_bootstrap.py:219: RuntimeWarning: numpy.dtype size changed, may indicate binary incompatibility. Expected 96, got 88\n",
      "  return f(*args, **kwds)\n"
     ]
    }
   ],
   "source": [
    "import pandas as pd\n",
    "import numpy as np"
   ]
  },
  {
   "cell_type": "code",
   "execution_count": 2,
   "metadata": {},
   "outputs": [],
   "source": [
    "import matplotlib.pyplot as plt\n",
    "plt.style.use('ggplot')\n",
    "%matplotlib inline"
   ]
  },
  {
   "cell_type": "markdown",
   "metadata": {},
   "source": [
    "## use Python datetime"
   ]
  },
  {
   "cell_type": "code",
   "execution_count": 8,
   "metadata": {},
   "outputs": [
    {
     "data": {
      "text/plain": [
       "datetime.datetime(2018, 8, 14, 13, 49, 45, 739524)"
      ]
     },
     "execution_count": 8,
     "metadata": {},
     "output_type": "execute_result"
    }
   ],
   "source": [
    "from datetime import datetime\n",
    "now=datetime.now()\n",
    "now"
   ]
  },
  {
   "cell_type": "code",
   "execution_count": 9,
   "metadata": {},
   "outputs": [
    {
     "name": "stdout",
     "output_type": "stream",
     "text": [
      "2018-08-14T13:49:45.739524\n"
     ]
    }
   ],
   "source": [
    "print(now.isoformat())"
   ]
  },
  {
   "cell_type": "markdown",
   "metadata": {},
   "source": [
    "## parse string to datetime"
   ]
  },
  {
   "cell_type": "code",
   "execution_count": 10,
   "metadata": {},
   "outputs": [
    {
     "data": {
      "text/plain": [
       "datetime.datetime(2018, 9, 2, 13, 0)"
      ]
     },
     "execution_count": 10,
     "metadata": {},
     "output_type": "execute_result"
    }
   ],
   "source": [
    "datetime.strptime('2018-09-02  13:00',  '%Y-%m-%d  %H:%M')"
   ]
  },
  {
   "cell_type": "code",
   "execution_count": 11,
   "metadata": {},
   "outputs": [],
   "source": [
    "date1=pd.to_datetime('5th of august,2018')"
   ]
  },
  {
   "cell_type": "code",
   "execution_count": 12,
   "metadata": {},
   "outputs": [
    {
     "data": {
      "text/plain": [
       "Timestamp('2018-08-05 00:00:00')"
      ]
     },
     "execution_count": 12,
     "metadata": {},
     "output_type": "execute_result"
    }
   ],
   "source": [
    "date1"
   ]
  },
  {
   "cell_type": "code",
   "execution_count": 13,
   "metadata": {},
   "outputs": [
    {
     "data": {
      "text/plain": [
       "pandas._libs.tslibs.timestamps.Timestamp"
      ]
     },
     "execution_count": 13,
     "metadata": {},
     "output_type": "execute_result"
    }
   ],
   "source": [
    "type(date)"
   ]
  },
  {
   "cell_type": "code",
   "execution_count": 6,
   "metadata": {},
   "outputs": [
    {
     "data": {
      "text/plain": [
       "'Sunday'"
      ]
     },
     "execution_count": 6,
     "metadata": {},
     "output_type": "execute_result"
    }
   ],
   "source": [
    "date.strftime('%A')"
   ]
  },
  {
   "cell_type": "code",
   "execution_count": 7,
   "metadata": {
    "collapsed": true
   },
   "outputs": [],
   "source": [
    "date1=pd.to_datetime('2018-08-06')"
   ]
  },
  {
   "cell_type": "code",
   "execution_count": 8,
   "metadata": {},
   "outputs": [
    {
     "data": {
      "text/plain": [
       "Timestamp('2018-08-06 00:00:00')"
      ]
     },
     "execution_count": 8,
     "metadata": {},
     "output_type": "execute_result"
    }
   ],
   "source": [
    "date1"
   ]
  },
  {
   "cell_type": "code",
   "execution_count": 9,
   "metadata": {
    "collapsed": true
   },
   "outputs": [],
   "source": [
    "ii=pd.DatetimeIndex(['2014-07-04','2014-08-04','2015-07-04'])"
   ]
  },
  {
   "cell_type": "code",
   "execution_count": 11,
   "metadata": {},
   "outputs": [
    {
     "data": {
      "text/plain": [
       "DatetimeIndex(['2014-07-04', '2014-08-04', '2015-07-04'], dtype='datetime64[ns]', freq=None)"
      ]
     },
     "execution_count": 11,
     "metadata": {},
     "output_type": "execute_result"
    }
   ],
   "source": [
    "ii"
   ]
  },
  {
   "cell_type": "code",
   "execution_count": 12,
   "metadata": {},
   "outputs": [
    {
     "data": {
      "text/plain": [
       "pandas.core.indexes.datetimes.DatetimeIndex"
      ]
     },
     "execution_count": 12,
     "metadata": {},
     "output_type": "execute_result"
    }
   ],
   "source": [
    "type(ii)"
   ]
  },
  {
   "cell_type": "code",
   "execution_count": 16,
   "metadata": {
    "collapsed": true
   },
   "outputs": [],
   "source": [
    "data=pd.Series([0,1,3],index=ii)"
   ]
  },
  {
   "cell_type": "code",
   "execution_count": 17,
   "metadata": {},
   "outputs": [
    {
     "data": {
      "text/plain": [
       "2014-07-04    0\n",
       "2014-08-04    1\n",
       "2015-07-04    3\n",
       "dtype: int64"
      ]
     },
     "execution_count": 17,
     "metadata": {},
     "output_type": "execute_result"
    }
   ],
   "source": [
    "data"
   ]
  },
  {
   "cell_type": "code",
   "execution_count": 15,
   "metadata": {
    "scrolled": true
   },
   "outputs": [
    {
     "data": {
      "text/plain": [
       "DatetimeIndex(['1989-09-02', '1989-09-03', '1989-09-04', '1989-09-05',\n",
       "               '1989-09-06', '1989-09-07', '1989-09-08', '1989-09-09',\n",
       "               '1989-09-10', '1989-09-11',\n",
       "               ...\n",
       "               '1990-11-07', '1990-11-08', '1990-11-09', '1990-11-10',\n",
       "               '1990-11-11', '1990-11-12', '1990-11-13', '1990-11-14',\n",
       "               '1990-11-15', '1990-11-16'],\n",
       "              dtype='datetime64[ns]', length=441, freq='D')"
      ]
     },
     "execution_count": 15,
     "metadata": {},
     "output_type": "execute_result"
    }
   ],
   "source": [
    "pd.date_range('1989-09-02','1990-11-16')"
   ]
  },
  {
   "cell_type": "code",
   "execution_count": 4,
   "metadata": {
    "scrolled": true
   },
   "outputs": [
    {
     "data": {
      "text/plain": [
       "DatetimeIndex(['1989-09-02', '1989-09-03', '1989-09-04', '1989-09-05',\n",
       "               '1989-09-06', '1989-09-07', '1989-09-08'],\n",
       "              dtype='datetime64[ns]', freq='D')"
      ]
     },
     "execution_count": 4,
     "metadata": {},
     "output_type": "execute_result"
    }
   ],
   "source": [
    "pd.date_range('1989-09-02','1989-09-08')"
   ]
  },
  {
   "cell_type": "code",
   "execution_count": 21,
   "metadata": {},
   "outputs": [],
   "source": [
    "id1=pd.date_range('1999-12-20','2000-01-05')"
   ]
  },
  {
   "cell_type": "code",
   "execution_count": 22,
   "metadata": {},
   "outputs": [
    {
     "name": "stdout",
     "output_type": "stream",
     "text": [
      "DatetimeIndex(['1999-12-20', '1999-12-21', '1999-12-22', '1999-12-23',\n",
      "               '1999-12-24', '1999-12-25', '1999-12-26', '1999-12-27',\n",
      "               '1999-12-28', '1999-12-29', '1999-12-30', '1999-12-31',\n",
      "               '2000-01-01', '2000-01-02', '2000-01-03', '2000-01-04',\n",
      "               '2000-01-05'],\n",
      "              dtype='datetime64[ns]', freq='D')\n"
     ]
    }
   ],
   "source": [
    "print(id1)"
   ]
  },
  {
   "cell_type": "code",
   "execution_count": 23,
   "metadata": {},
   "outputs": [],
   "source": [
    "ary1=np.arange(17)"
   ]
  },
  {
   "cell_type": "code",
   "execution_count": 24,
   "metadata": {},
   "outputs": [],
   "source": [
    "se1=pd.Series(ary1, index=id1)"
   ]
  },
  {
   "cell_type": "code",
   "execution_count": 25,
   "metadata": {},
   "outputs": [
    {
     "data": {
      "text/plain": [
       "1999-12-20     0\n",
       "1999-12-21     1\n",
       "1999-12-22     2\n",
       "1999-12-23     3\n",
       "1999-12-24     4\n",
       "1999-12-25     5\n",
       "1999-12-26     6\n",
       "1999-12-27     7\n",
       "1999-12-28     8\n",
       "1999-12-29     9\n",
       "1999-12-30    10\n",
       "1999-12-31    11\n",
       "2000-01-01    12\n",
       "2000-01-02    13\n",
       "2000-01-03    14\n",
       "2000-01-04    15\n",
       "2000-01-05    16\n",
       "Freq: D, dtype: int64"
      ]
     },
     "execution_count": 25,
     "metadata": {},
     "output_type": "execute_result"
    }
   ],
   "source": [
    "se1"
   ]
  },
  {
   "cell_type": "code",
   "execution_count": 55,
   "metadata": {},
   "outputs": [
    {
     "name": "stdout",
     "output_type": "stream",
     "text": [
      "2001-12-05    100\n",
      "dtype: int64\n"
     ]
    }
   ],
   "source": [
    "se2=pd.Series([100],index=pd.DatetimeIndex(['2001-12-05']))\n",
    "print(se2)"
   ]
  },
  {
   "cell_type": "code",
   "execution_count": 56,
   "metadata": {},
   "outputs": [],
   "source": [
    "se3=se1.append(se2)"
   ]
  },
  {
   "cell_type": "code",
   "execution_count": 57,
   "metadata": {},
   "outputs": [
    {
     "data": {
      "text/plain": [
       "1999-12-20      0\n",
       "1999-12-21      1\n",
       "1999-12-22      2\n",
       "1999-12-23      3\n",
       "1999-12-24      4\n",
       "1999-12-25      5\n",
       "1999-12-26      6\n",
       "1999-12-27      7\n",
       "1999-12-28      8\n",
       "1999-12-29      9\n",
       "1999-12-30     10\n",
       "1999-12-31     11\n",
       "2000-01-01     12\n",
       "2000-01-02     13\n",
       "2000-01-03     14\n",
       "2000-01-04     15\n",
       "2000-01-05     16\n",
       "2001-12-05    100\n",
       "dtype: int64"
      ]
     },
     "execution_count": 57,
     "metadata": {},
     "output_type": "execute_result"
    }
   ],
   "source": [
    "se3"
   ]
  },
  {
   "cell_type": "code",
   "execution_count": 58,
   "metadata": {},
   "outputs": [
    {
     "name": "stdout",
     "output_type": "stream",
     "text": [
      "            testcol\n",
      "1999-12-20        0\n",
      "1999-12-21        1\n",
      "1999-12-22        2\n",
      "1999-12-23        3\n",
      "1999-12-24        4\n",
      "1999-12-25        5\n",
      "1999-12-26        6\n",
      "1999-12-27        7\n",
      "1999-12-28        8\n",
      "1999-12-29        9\n",
      "1999-12-30       10\n",
      "1999-12-31       11\n",
      "2000-01-01       12\n",
      "2000-01-02       13\n",
      "2000-01-03       14\n",
      "2000-01-04       15\n",
      "2000-01-05       16\n",
      "2001-12-05      100\n"
     ]
    }
   ],
   "source": [
    "dfse=pd.DataFrame(se3,columns=['testcol'])\n",
    "print(dfse)"
   ]
  },
  {
   "cell_type": "markdown",
   "metadata": {},
   "source": [
    "## insex of se1 series is a date-time-index"
   ]
  },
  {
   "cell_type": "code",
   "execution_count": 59,
   "metadata": {},
   "outputs": [
    {
     "data": {
      "text/plain": [
       "1999-12-31     11.0\n",
       "2000-01-31     16.0\n",
       "2000-02-29      NaN\n",
       "2000-03-31      NaN\n",
       "2000-04-30      NaN\n",
       "2000-05-31      NaN\n",
       "2000-06-30      NaN\n",
       "2000-07-31      NaN\n",
       "2000-08-31      NaN\n",
       "2000-09-30      NaN\n",
       "2000-10-31      NaN\n",
       "2000-11-30      NaN\n",
       "2000-12-31      NaN\n",
       "2001-01-31      NaN\n",
       "2001-02-28      NaN\n",
       "2001-03-31      NaN\n",
       "2001-04-30      NaN\n",
       "2001-05-31      NaN\n",
       "2001-06-30      NaN\n",
       "2001-07-31      NaN\n",
       "2001-08-31      NaN\n",
       "2001-09-30      NaN\n",
       "2001-10-31      NaN\n",
       "2001-11-30      NaN\n",
       "2001-12-31    100.0\n",
       "Freq: M, Name: testcol, dtype: float64"
      ]
     },
     "execution_count": 59,
     "metadata": {},
     "output_type": "execute_result"
    }
   ],
   "source": [
    "dfse.resample('M')['testcol'].max()"
   ]
  },
  {
   "cell_type": "code",
   "execution_count": 60,
   "metadata": {},
   "outputs": [
    {
     "data": {
      "text/html": [
       "<div>\n",
       "<style scoped>\n",
       "    .dataframe tbody tr th:only-of-type {\n",
       "        vertical-align: middle;\n",
       "    }\n",
       "\n",
       "    .dataframe tbody tr th {\n",
       "        vertical-align: top;\n",
       "    }\n",
       "\n",
       "    .dataframe thead th {\n",
       "        text-align: right;\n",
       "    }\n",
       "</style>\n",
       "<table border=\"1\" class=\"dataframe\">\n",
       "  <thead>\n",
       "    <tr style=\"text-align: right;\">\n",
       "      <th></th>\n",
       "      <th>testcol</th>\n",
       "    </tr>\n",
       "  </thead>\n",
       "  <tbody>\n",
       "    <tr>\n",
       "      <th>1999-12-20</th>\n",
       "      <td>0</td>\n",
       "    </tr>\n",
       "    <tr>\n",
       "      <th>1999-12-21</th>\n",
       "      <td>1</td>\n",
       "    </tr>\n",
       "    <tr>\n",
       "      <th>1999-12-22</th>\n",
       "      <td>2</td>\n",
       "    </tr>\n",
       "    <tr>\n",
       "      <th>1999-12-23</th>\n",
       "      <td>3</td>\n",
       "    </tr>\n",
       "    <tr>\n",
       "      <th>1999-12-24</th>\n",
       "      <td>4</td>\n",
       "    </tr>\n",
       "    <tr>\n",
       "      <th>1999-12-25</th>\n",
       "      <td>5</td>\n",
       "    </tr>\n",
       "    <tr>\n",
       "      <th>1999-12-26</th>\n",
       "      <td>6</td>\n",
       "    </tr>\n",
       "    <tr>\n",
       "      <th>1999-12-27</th>\n",
       "      <td>7</td>\n",
       "    </tr>\n",
       "    <tr>\n",
       "      <th>1999-12-28</th>\n",
       "      <td>8</td>\n",
       "    </tr>\n",
       "    <tr>\n",
       "      <th>1999-12-29</th>\n",
       "      <td>9</td>\n",
       "    </tr>\n",
       "    <tr>\n",
       "      <th>1999-12-30</th>\n",
       "      <td>10</td>\n",
       "    </tr>\n",
       "    <tr>\n",
       "      <th>1999-12-31</th>\n",
       "      <td>11</td>\n",
       "    </tr>\n",
       "    <tr>\n",
       "      <th>2000-01-01</th>\n",
       "      <td>12</td>\n",
       "    </tr>\n",
       "    <tr>\n",
       "      <th>2000-01-02</th>\n",
       "      <td>13</td>\n",
       "    </tr>\n",
       "    <tr>\n",
       "      <th>2000-01-03</th>\n",
       "      <td>14</td>\n",
       "    </tr>\n",
       "    <tr>\n",
       "      <th>2000-01-04</th>\n",
       "      <td>15</td>\n",
       "    </tr>\n",
       "    <tr>\n",
       "      <th>2000-01-05</th>\n",
       "      <td>16</td>\n",
       "    </tr>\n",
       "    <tr>\n",
       "      <th>2001-12-05</th>\n",
       "      <td>100</td>\n",
       "    </tr>\n",
       "  </tbody>\n",
       "</table>\n",
       "</div>"
      ],
      "text/plain": [
       "            testcol\n",
       "1999-12-20        0\n",
       "1999-12-21        1\n",
       "1999-12-22        2\n",
       "1999-12-23        3\n",
       "1999-12-24        4\n",
       "1999-12-25        5\n",
       "1999-12-26        6\n",
       "1999-12-27        7\n",
       "1999-12-28        8\n",
       "1999-12-29        9\n",
       "1999-12-30       10\n",
       "1999-12-31       11\n",
       "2000-01-01       12\n",
       "2000-01-02       13\n",
       "2000-01-03       14\n",
       "2000-01-04       15\n",
       "2000-01-05       16\n",
       "2001-12-05      100"
      ]
     },
     "execution_count": 60,
     "metadata": {},
     "output_type": "execute_result"
    }
   ],
   "source": [
    "dfse"
   ]
  },
  {
   "cell_type": "code",
   "execution_count": 61,
   "metadata": {},
   "outputs": [
    {
     "data": {
      "text/plain": [
       "1      16\n",
       "12    100\n",
       "Name: testcol, dtype: int64"
      ]
     },
     "execution_count": 61,
     "metadata": {},
     "output_type": "execute_result"
    }
   ],
   "source": [
    "dfse.groupby(dfse.index.month)['testcol'].max()"
   ]
  },
  {
   "cell_type": "code",
   "execution_count": 62,
   "metadata": {},
   "outputs": [
    {
     "data": {
      "text/plain": [
       "1999    12\n",
       "2000     5\n",
       "2001     1\n",
       "dtype: int64"
      ]
     },
     "execution_count": 62,
     "metadata": {},
     "output_type": "execute_result"
    }
   ],
   "source": [
    "se3.groupby(se3.index.year).count()"
   ]
  },
  {
   "cell_type": "code",
   "execution_count": 16,
   "metadata": {},
   "outputs": [
    {
     "data": {
      "text/plain": [
       "array([  0,   1,   2,   3,   4,   5,   6,   7,   8,   9,  10,  11,  12,\n",
       "        13,  14,  15,  16,  17,  18,  19,  20,  21,  22,  23,  24,  25,\n",
       "        26,  27,  28,  29,  30,  31,  32,  33,  34,  35,  36,  37,  38,\n",
       "        39,  40,  41,  42,  43,  44,  45,  46,  47,  48,  49,  50,  51,\n",
       "        52,  53,  54,  55,  56,  57,  58,  59,  60,  61,  62,  63,  64,\n",
       "        65,  66,  67,  68,  69,  70,  71,  72,  73,  74,  75,  76,  77,\n",
       "        78,  79,  80,  81,  82,  83,  84,  85,  86,  87,  88,  89,  90,\n",
       "        91,  92,  93,  94,  95,  96,  97,  98,  99, 100, 101, 102, 103,\n",
       "       104, 105, 106, 107, 108, 109, 110, 111, 112, 113, 114, 115, 116,\n",
       "       117, 118, 119, 120, 121, 122, 123, 124, 125, 126, 127, 128, 129,\n",
       "       130, 131, 132, 133, 134, 135, 136, 137, 138, 139, 140, 141, 142,\n",
       "       143, 144, 145, 146, 147, 148, 149, 150, 151, 152, 153, 154, 155,\n",
       "       156, 157, 158, 159, 160, 161, 162, 163, 164, 165, 166, 167, 168,\n",
       "       169, 170, 171, 172, 173, 174, 175, 176, 177, 178, 179, 180, 181,\n",
       "       182, 183, 184, 185, 186, 187, 188, 189, 190, 191, 192, 193, 194,\n",
       "       195, 196, 197, 198, 199, 200, 201, 202, 203, 204, 205, 206, 207,\n",
       "       208, 209, 210, 211, 212, 213, 214, 215, 216, 217, 218, 219, 220,\n",
       "       221, 222, 223, 224, 225, 226, 227, 228, 229, 230, 231, 232, 233,\n",
       "       234, 235, 236, 237, 238, 239, 240, 241, 242, 243, 244, 245, 246,\n",
       "       247, 248, 249, 250, 251, 252, 253, 254, 255, 256, 257, 258, 259,\n",
       "       260, 261, 262, 263, 264, 265, 266, 267, 268, 269, 270, 271, 272,\n",
       "       273, 274, 275, 276, 277, 278, 279, 280, 281, 282, 283, 284, 285,\n",
       "       286, 287, 288, 289, 290, 291, 292, 293, 294, 295, 296, 297, 298,\n",
       "       299, 300, 301, 302, 303, 304, 305, 306, 307, 308, 309, 310, 311,\n",
       "       312, 313, 314, 315, 316, 317, 318, 319, 320, 321, 322, 323, 324,\n",
       "       325, 326, 327, 328, 329, 330, 331, 332, 333, 334, 335, 336, 337,\n",
       "       338, 339, 340, 341, 342, 343, 344, 345, 346, 347, 348, 349, 350,\n",
       "       351, 352, 353, 354, 355, 356, 357, 358, 359, 360, 361, 362, 363,\n",
       "       364, 365, 366, 367, 368, 369, 370, 371, 372])"
      ]
     },
     "execution_count": 16,
     "metadata": {},
     "output_type": "execute_result"
    }
   ],
   "source": [
    "se1.values"
   ]
  },
  {
   "cell_type": "code",
   "execution_count": 17,
   "metadata": {},
   "outputs": [
    {
     "data": {
      "text/plain": [
       "[<matplotlib.lines.Line2D at 0x7f3b66e4bcc0>]"
      ]
     },
     "execution_count": 17,
     "metadata": {},
     "output_type": "execute_result"
    },
    {
     "data": {
      "image/png": "[encoded data removed]",
      "text/plain": [
       "<Figure size 432x288 with 1 Axes>"
      ]
     },
     "metadata": {},
     "output_type": "display_data"
    }
   ],
   "source": [
    "plt.plot(se1.index, se1.values )"
   ]
  },
  {
   "cell_type": "markdown",
   "metadata": {},
   "source": [
    "# example from https://pandas.pydata.org/pandas-docs/stable/generated/pandas.DataFrame.resample.html"
   ]
  },
  {
   "cell_type": "code",
   "execution_count": 3,
   "metadata": {},
   "outputs": [],
   "source": [
    "index = pd.date_range('1/1/2000', periods=9, freq='T')\n",
    "# T :  minute"
   ]
  },
  {
   "cell_type": "code",
   "execution_count": 27,
   "metadata": {},
   "outputs": [
    {
     "data": {
      "text/plain": [
       "DatetimeIndex(['2000-01-01 00:00:00', '2000-01-01 00:01:00',\n",
       "               '2000-01-01 00:02:00', '2000-01-01 00:03:00',\n",
       "               '2000-01-01 00:04:00', '2000-01-01 00:05:00',\n",
       "               '2000-01-01 00:06:00', '2000-01-01 00:07:00',\n",
       "               '2000-01-01 00:08:00'],\n",
       "              dtype='datetime64[ns]', freq='T')"
      ]
     },
     "execution_count": 27,
     "metadata": {},
     "output_type": "execute_result"
    }
   ],
   "source": [
    "index"
   ]
  },
  {
   "cell_type": "code",
   "execution_count": 28,
   "metadata": {
    "collapsed": true
   },
   "outputs": [],
   "source": [
    "series = pd.Series(range(9), index=index)"
   ]
  },
  {
   "cell_type": "code",
   "execution_count": 29,
   "metadata": {},
   "outputs": [
    {
     "data": {
      "text/plain": [
       "2000-01-01 00:00:00     3\n",
       "2000-01-01 00:03:00    12\n",
       "2000-01-01 00:06:00    21\n",
       "Freq: 3T, dtype: int64"
      ]
     },
     "execution_count": 29,
     "metadata": {},
     "output_type": "execute_result"
    }
   ],
   "source": [
    "series.resample('3T').sum()"
   ]
  },
  {
   "cell_type": "code",
   "execution_count": 30,
   "metadata": {
    "collapsed": true
   },
   "outputs": [],
   "source": [
    "index = pd.date_range('1/1/2000', periods=79, freq='T')"
   ]
  },
  {
   "cell_type": "code",
   "execution_count": 31,
   "metadata": {},
   "outputs": [
    {
     "data": {
      "text/plain": [
       "DatetimeIndex(['2000-01-01 00:00:00', '2000-01-01 00:01:00',\n",
       "               '2000-01-01 00:02:00', '2000-01-01 00:03:00',\n",
       "               '2000-01-01 00:04:00', '2000-01-01 00:05:00',\n",
       "               '2000-01-01 00:06:00', '2000-01-01 00:07:00',\n",
       "               '2000-01-01 00:08:00', '2000-01-01 00:09:00',\n",
       "               '2000-01-01 00:10:00', '2000-01-01 00:11:00',\n",
       "               '2000-01-01 00:12:00', '2000-01-01 00:13:00',\n",
       "               '2000-01-01 00:14:00', '2000-01-01 00:15:00',\n",
       "               '2000-01-01 00:16:00', '2000-01-01 00:17:00',\n",
       "               '2000-01-01 00:18:00', '2000-01-01 00:19:00',\n",
       "               '2000-01-01 00:20:00', '2000-01-01 00:21:00',\n",
       "               '2000-01-01 00:22:00', '2000-01-01 00:23:00',\n",
       "               '2000-01-01 00:24:00', '2000-01-01 00:25:00',\n",
       "               '2000-01-01 00:26:00', '2000-01-01 00:27:00',\n",
       "               '2000-01-01 00:28:00', '2000-01-01 00:29:00',\n",
       "               '2000-01-01 00:30:00', '2000-01-01 00:31:00',\n",
       "               '2000-01-01 00:32:00', '2000-01-01 00:33:00',\n",
       "               '2000-01-01 00:34:00', '2000-01-01 00:35:00',\n",
       "               '2000-01-01 00:36:00', '2000-01-01 00:37:00',\n",
       "               '2000-01-01 00:38:00', '2000-01-01 00:39:00',\n",
       "               '2000-01-01 00:40:00', '2000-01-01 00:41:00',\n",
       "               '2000-01-01 00:42:00', '2000-01-01 00:43:00',\n",
       "               '2000-01-01 00:44:00', '2000-01-01 00:45:00',\n",
       "               '2000-01-01 00:46:00', '2000-01-01 00:47:00',\n",
       "               '2000-01-01 00:48:00', '2000-01-01 00:49:00',\n",
       "               '2000-01-01 00:50:00', '2000-01-01 00:51:00',\n",
       "               '2000-01-01 00:52:00', '2000-01-01 00:53:00',\n",
       "               '2000-01-01 00:54:00', '2000-01-01 00:55:00',\n",
       "               '2000-01-01 00:56:00', '2000-01-01 00:57:00',\n",
       "               '2000-01-01 00:58:00', '2000-01-01 00:59:00',\n",
       "               '2000-01-01 01:00:00', '2000-01-01 01:01:00',\n",
       "               '2000-01-01 01:02:00', '2000-01-01 01:03:00',\n",
       "               '2000-01-01 01:04:00', '2000-01-01 01:05:00',\n",
       "               '2000-01-01 01:06:00', '2000-01-01 01:07:00',\n",
       "               '2000-01-01 01:08:00', '2000-01-01 01:09:00',\n",
       "               '2000-01-01 01:10:00', '2000-01-01 01:11:00',\n",
       "               '2000-01-01 01:12:00', '2000-01-01 01:13:00',\n",
       "               '2000-01-01 01:14:00', '2000-01-01 01:15:00',\n",
       "               '2000-01-01 01:16:00', '2000-01-01 01:17:00',\n",
       "               '2000-01-01 01:18:00'],\n",
       "              dtype='datetime64[ns]', freq='T')"
      ]
     },
     "execution_count": 31,
     "metadata": {},
     "output_type": "execute_result"
    }
   ],
   "source": [
    "index"
   ]
  },
  {
   "cell_type": "code",
   "execution_count": 32,
   "metadata": {
    "collapsed": true
   },
   "outputs": [],
   "source": [
    " series = pd.Series(range(79), index=index)"
   ]
  },
  {
   "cell_type": "code",
   "execution_count": 33,
   "metadata": {},
   "outputs": [
    {
     "data": {
      "text/plain": [
       "2000-01-01 00:00:00     0\n",
       "2000-01-01 00:01:00     1\n",
       "2000-01-01 00:02:00     2\n",
       "2000-01-01 00:03:00     3\n",
       "2000-01-01 00:04:00     4\n",
       "2000-01-01 00:05:00     5\n",
       "2000-01-01 00:06:00     6\n",
       "2000-01-01 00:07:00     7\n",
       "2000-01-01 00:08:00     8\n",
       "2000-01-01 00:09:00     9\n",
       "2000-01-01 00:10:00    10\n",
       "2000-01-01 00:11:00    11\n",
       "2000-01-01 00:12:00    12\n",
       "2000-01-01 00:13:00    13\n",
       "2000-01-01 00:14:00    14\n",
       "2000-01-01 00:15:00    15\n",
       "2000-01-01 00:16:00    16\n",
       "2000-01-01 00:17:00    17\n",
       "2000-01-01 00:18:00    18\n",
       "2000-01-01 00:19:00    19\n",
       "2000-01-01 00:20:00    20\n",
       "2000-01-01 00:21:00    21\n",
       "2000-01-01 00:22:00    22\n",
       "2000-01-01 00:23:00    23\n",
       "2000-01-01 00:24:00    24\n",
       "2000-01-01 00:25:00    25\n",
       "2000-01-01 00:26:00    26\n",
       "2000-01-01 00:27:00    27\n",
       "2000-01-01 00:28:00    28\n",
       "2000-01-01 00:29:00    29\n",
       "                       ..\n",
       "2000-01-01 00:49:00    49\n",
       "2000-01-01 00:50:00    50\n",
       "2000-01-01 00:51:00    51\n",
       "2000-01-01 00:52:00    52\n",
       "2000-01-01 00:53:00    53\n",
       "2000-01-01 00:54:00    54\n",
       "2000-01-01 00:55:00    55\n",
       "2000-01-01 00:56:00    56\n",
       "2000-01-01 00:57:00    57\n",
       "2000-01-01 00:58:00    58\n",
       "2000-01-01 00:59:00    59\n",
       "2000-01-01 01:00:00    60\n",
       "2000-01-01 01:01:00    61\n",
       "2000-01-01 01:02:00    62\n",
       "2000-01-01 01:03:00    63\n",
       "2000-01-01 01:04:00    64\n",
       "2000-01-01 01:05:00    65\n",
       "2000-01-01 01:06:00    66\n",
       "2000-01-01 01:07:00    67\n",
       "2000-01-01 01:08:00    68\n",
       "2000-01-01 01:09:00    69\n",
       "2000-01-01 01:10:00    70\n",
       "2000-01-01 01:11:00    71\n",
       "2000-01-01 01:12:00    72\n",
       "2000-01-01 01:13:00    73\n",
       "2000-01-01 01:14:00    74\n",
       "2000-01-01 01:15:00    75\n",
       "2000-01-01 01:16:00    76\n",
       "2000-01-01 01:17:00    77\n",
       "2000-01-01 01:18:00    78\n",
       "Freq: T, Length: 79, dtype: int64"
      ]
     },
     "execution_count": 33,
     "metadata": {},
     "output_type": "execute_result"
    }
   ],
   "source": [
    "series"
   ]
  },
  {
   "cell_type": "code",
   "execution_count": 34,
   "metadata": {},
   "outputs": [
    {
     "data": {
      "text/plain": [
       "2000-01-01 00:00:00    59\n",
       "2000-01-01 01:00:00    78\n",
       "Freq: H, dtype: int64"
      ]
     },
     "execution_count": 34,
     "metadata": {},
     "output_type": "execute_result"
    }
   ],
   "source": [
    "series.resample('H').max()"
   ]
  },
  {
   "cell_type": "code",
   "execution_count": 35,
   "metadata": {
    "scrolled": true
   },
   "outputs": [
    {
     "data": {
      "text/plain": [
       "2000-01-01 00:00:00      3\n",
       "2000-01-01 00:03:00     12\n",
       "2000-01-01 00:06:00     21\n",
       "2000-01-01 00:09:00     30\n",
       "2000-01-01 00:12:00     39\n",
       "2000-01-01 00:15:00     48\n",
       "2000-01-01 00:18:00     57\n",
       "2000-01-01 00:21:00     66\n",
       "2000-01-01 00:24:00     75\n",
       "2000-01-01 00:27:00     84\n",
       "2000-01-01 00:30:00     93\n",
       "2000-01-01 00:33:00    102\n",
       "2000-01-01 00:36:00    111\n",
       "2000-01-01 00:39:00    120\n",
       "2000-01-01 00:42:00    129\n",
       "2000-01-01 00:45:00    138\n",
       "2000-01-01 00:48:00    147\n",
       "2000-01-01 00:51:00    156\n",
       "2000-01-01 00:54:00    165\n",
       "2000-01-01 00:57:00    174\n",
       "2000-01-01 01:00:00    183\n",
       "2000-01-01 01:03:00    192\n",
       "2000-01-01 01:06:00    201\n",
       "2000-01-01 01:09:00    210\n",
       "2000-01-01 01:12:00    219\n",
       "2000-01-01 01:15:00    228\n",
       "2000-01-01 01:18:00     78\n",
       "Freq: 3T, dtype: int64"
      ]
     },
     "execution_count": 35,
     "metadata": {},
     "output_type": "execute_result"
    }
   ],
   "source": [
    "series.resample('3T').sum()"
   ]
  },
  {
   "cell_type": "code",
   "execution_count": null,
   "metadata": {
    "collapsed": true
   },
   "outputs": [],
   "source": []
  }
 ],
 "metadata": {
  "kernelspec": {
   "display_name": "Python 3",
   "language": "python",
   "name": "python3"
  },
  "language_info": {
   "codemirror_mode": {
    "name": "ipython",
    "version": 3
   },
   "file_extension": ".py",
   "mimetype": "text/x-python",
   "name": "python",
   "nbconvert_exporter": "python",
   "pygments_lexer": "ipython3",
   "version": "3.6.5"
  }
 },
 "nbformat": 4,
 "nbformat_minor": 2
}
