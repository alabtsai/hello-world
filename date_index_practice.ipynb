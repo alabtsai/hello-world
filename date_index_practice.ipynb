{
 "cells": [
  {
   "cell_type": "code",
   "execution_count": 6,
   "metadata": {
    "collapsed": true
   },
   "outputs": [],
   "source": [
    "import pandas as pd\n",
    "import numpy as np"
   ]
  },
  {
   "cell_type": "code",
   "execution_count": 7,
   "metadata": {
    "collapsed": true
   },
   "outputs": [],
   "source": [
    "import matplotlib.pyplot as plt\n",
    "plt.style.use('ggplot')\n",
    "%matplotlib inline"
   ]
  },
  {
   "cell_type": "markdown",
   "metadata": {},
   "source": [
    "## use Python datetime"
   ]
  },
  {
   "cell_type": "code",
   "execution_count": 8,
   "metadata": {},
   "outputs": [
    {
     "data": {
      "text/plain": [
       "datetime.datetime(2018, 8, 14, 13, 49, 45, 739524)"
      ]
     },
     "execution_count": 8,
     "metadata": {},
     "output_type": "execute_result"
    }
   ],
   "source": [
    "from datetime import datetime\n",
    "now=datetime.now()\n",
    "now"
   ]
  },
  {
   "cell_type": "code",
   "execution_count": 9,
   "metadata": {},
   "outputs": [
    {
     "name": "stdout",
     "output_type": "stream",
     "text": [
      "2018-08-14T13:49:45.739524\n"
     ]
    }
   ],
   "source": [
    "print(now.isoformat())"
   ]
  },
  {
   "cell_type": "markdown",
   "metadata": {},
   "source": [
    "## parse string to datetime"
   ]
  },
  {
   "cell_type": "code",
   "execution_count": 10,
   "metadata": {},
   "outputs": [
    {
     "data": {
      "text/plain": [
       "datetime.datetime(2018, 9, 2, 13, 0)"
      ]
     },
     "execution_count": 10,
     "metadata": {},
     "output_type": "execute_result"
    }
   ],
   "source": [
    "datetime.strptime('2018-09-02  13:00',  '%Y-%m-%d  %H:%M')"
   ]
  },
  {
   "cell_type": "code",
   "execution_count": 11,
   "metadata": {},
   "outputs": [],
   "source": [
    "date1=pd.to_datetime('5th of august,2018')"
   ]
  },
  {
   "cell_type": "code",
   "execution_count": 12,
   "metadata": {},
   "outputs": [
    {
     "data": {
      "text/plain": [
       "Timestamp('2018-08-05 00:00:00')"
      ]
     },
     "execution_count": 12,
     "metadata": {},
     "output_type": "execute_result"
    }
   ],
   "source": [
    "date1"
   ]
  },
  {
   "cell_type": "code",
   "execution_count": 13,
   "metadata": {},
   "outputs": [
    {
     "data": {
      "text/plain": [
       "pandas._libs.tslibs.timestamps.Timestamp"
      ]
     },
     "execution_count": 13,
     "metadata": {},
     "output_type": "execute_result"
    }
   ],
   "source": [
    "type(date)"
   ]
  },
  {
   "cell_type": "code",
   "execution_count": 6,
   "metadata": {},
   "outputs": [
    {
     "data": {
      "text/plain": [
       "'Sunday'"
      ]
     },
     "execution_count": 6,
     "metadata": {},
     "output_type": "execute_result"
    }
   ],
   "source": [
    "date.strftime('%A')"
   ]
  },
  {
   "cell_type": "code",
   "execution_count": 7,
   "metadata": {
    "collapsed": true
   },
   "outputs": [],
   "source": [
    "date1=pd.to_datetime('2018-08-06')"
   ]
  },
  {
   "cell_type": "code",
   "execution_count": 8,
   "metadata": {},
   "outputs": [
    {
     "data": {
      "text/plain": [
       "Timestamp('2018-08-06 00:00:00')"
      ]
     },
     "execution_count": 8,
     "metadata": {},
     "output_type": "execute_result"
    }
   ],
   "source": [
    "date1"
   ]
  },
  {
   "cell_type": "code",
   "execution_count": 9,
   "metadata": {
    "collapsed": true
   },
   "outputs": [],
   "source": [
    "ii=pd.DatetimeIndex(['2014-07-04','2014-08-04','2015-07-04'])"
   ]
  },
  {
   "cell_type": "code",
   "execution_count": 11,
   "metadata": {},
   "outputs": [
    {
     "data": {
      "text/plain": [
       "DatetimeIndex(['2014-07-04', '2014-08-04', '2015-07-04'], dtype='datetime64[ns]', freq=None)"
      ]
     },
     "execution_count": 11,
     "metadata": {},
     "output_type": "execute_result"
    }
   ],
   "source": [
    "ii"
   ]
  },
  {
   "cell_type": "code",
   "execution_count": 12,
   "metadata": {},
   "outputs": [
    {
     "data": {
      "text/plain": [
       "pandas.core.indexes.datetimes.DatetimeIndex"
      ]
     },
     "execution_count": 12,
     "metadata": {},
     "output_type": "execute_result"
    }
   ],
   "source": [
    "type(ii)"
   ]
  },
  {
   "cell_type": "code",
   "execution_count": 16,
   "metadata": {
    "collapsed": true
   },
   "outputs": [],
   "source": [
    "data=pd.Series([0,1,3],index=ii)"
   ]
  },
  {
   "cell_type": "code",
   "execution_count": 17,
   "metadata": {},
   "outputs": [
    {
     "data": {
      "text/plain": [
       "2014-07-04    0\n",
       "2014-08-04    1\n",
       "2015-07-04    3\n",
       "dtype: int64"
      ]
     },
     "execution_count": 17,
     "metadata": {},
     "output_type": "execute_result"
    }
   ],
   "source": [
    "data"
   ]
  },
  {
   "cell_type": "code",
   "execution_count": 15,
   "metadata": {
    "scrolled": true
   },
   "outputs": [
    {
     "data": {
      "text/plain": [
       "DatetimeIndex(['1989-09-02', '1989-09-03', '1989-09-04', '1989-09-05',\n",
       "               '1989-09-06', '1989-09-07', '1989-09-08', '1989-09-09',\n",
       "               '1989-09-10', '1989-09-11',\n",
       "               ...\n",
       "               '1990-11-07', '1990-11-08', '1990-11-09', '1990-11-10',\n",
       "               '1990-11-11', '1990-11-12', '1990-11-13', '1990-11-14',\n",
       "               '1990-11-15', '1990-11-16'],\n",
       "              dtype='datetime64[ns]', length=441, freq='D')"
      ]
     },
     "execution_count": 15,
     "metadata": {},
     "output_type": "execute_result"
    }
   ],
   "source": [
    "pd.date_range('1989-09-02','1990-11-16')"
   ]
  },
  {
   "cell_type": "code",
   "execution_count": 7,
   "metadata": {
    "scrolled": true
   },
   "outputs": [
    {
     "data": {
      "text/plain": [
       "DatetimeIndex(['1989-09-02', '1989-09-03', '1989-09-04', '1989-09-05',\n",
       "               '1989-09-06', '1989-09-07', '1989-09-08'],\n",
       "              dtype='datetime64[ns]', freq='D')"
      ]
     },
     "execution_count": 7,
     "metadata": {},
     "output_type": "execute_result"
    }
   ],
   "source": [
    "pd.date_range('1989-09-02','1989-09-08')"
   ]
  },
  {
   "cell_type": "code",
   "execution_count": 8,
   "metadata": {
    "collapsed": true
   },
   "outputs": [],
   "source": [
    "ary1=np.arange(7)"
   ]
  },
  {
   "cell_type": "code",
   "execution_count": 9,
   "metadata": {
    "collapsed": true
   },
   "outputs": [],
   "source": [
    "se1=pd.Series(ary1, index=pd.date_range('1989-09-02','1989-09-08'))"
   ]
  },
  {
   "cell_type": "code",
   "execution_count": 10,
   "metadata": {},
   "outputs": [
    {
     "data": {
      "text/plain": [
       "1989-09-02    0\n",
       "1989-09-03    1\n",
       "1989-09-04    2\n",
       "1989-09-05    3\n",
       "1989-09-06    4\n",
       "1989-09-07    5\n",
       "1989-09-08    6\n",
       "Freq: D, dtype: int64"
      ]
     },
     "execution_count": 10,
     "metadata": {},
     "output_type": "execute_result"
    }
   ],
   "source": [
    "se1"
   ]
  },
  {
   "cell_type": "markdown",
   "metadata": {},
   "source": [
    "## insex of se1 series is a date-time-index"
   ]
  },
  {
   "cell_type": "code",
   "execution_count": 11,
   "metadata": {},
   "outputs": [
    {
     "data": {
      "text/plain": [
       "DatetimeIndex(['1989-09-02', '1989-09-03', '1989-09-04', '1989-09-05',\n",
       "               '1989-09-06', '1989-09-07', '1989-09-08'],\n",
       "              dtype='datetime64[ns]', freq='D')"
      ]
     },
     "execution_count": 11,
     "metadata": {},
     "output_type": "execute_result"
    }
   ],
   "source": [
    "se1.index"
   ]
  },
  {
   "cell_type": "code",
   "execution_count": 12,
   "metadata": {},
   "outputs": [
    {
     "data": {
      "text/plain": [
       "array([0, 1, 2, 3, 4, 5, 6])"
      ]
     },
     "execution_count": 12,
     "metadata": {},
     "output_type": "execute_result"
    }
   ],
   "source": [
    "se1.values"
   ]
  },
  {
   "cell_type": "code",
   "execution_count": 13,
   "metadata": {},
   "outputs": [
    {
     "data": {
      "text/plain": [
       "[<matplotlib.lines.Line2D at 0x7fcd2925da90>]"
      ]
     },
     "execution_count": 13,
     "metadata": {},
     "output_type": "execute_result"
    },
    {
     "data": {
      "image/png": "[encoded data removed]",
      "text/plain": [
       "<Figure size 432x288 with 1 Axes>"
      ]
     },
     "metadata": {},
     "output_type": "display_data"
    }
   ],
   "source": [
    "plt.plot(se1.index, se1.values )"
   ]
  },
  {
   "cell_type": "markdown",
   "metadata": {},
   "source": [
    "# example from https://pandas.pydata.org/pandas-docs/stable/generated/pandas.DataFrame.resample.html"
   ]
  },
  {
   "cell_type": "code",
   "execution_count": 26,
   "metadata": {
    "collapsed": true
   },
   "outputs": [],
   "source": [
    "index = pd.date_range('1/1/2000', periods=9, freq='T')\n",
    "# T :  minute"
   ]
  },
  {
   "cell_type": "code",
   "execution_count": 27,
   "metadata": {},
   "outputs": [
    {
     "data": {
      "text/plain": [
       "DatetimeIndex(['2000-01-01 00:00:00', '2000-01-01 00:01:00',\n",
       "               '2000-01-01 00:02:00', '2000-01-01 00:03:00',\n",
       "               '2000-01-01 00:04:00', '2000-01-01 00:05:00',\n",
       "               '2000-01-01 00:06:00', '2000-01-01 00:07:00',\n",
       "               '2000-01-01 00:08:00'],\n",
       "              dtype='datetime64[ns]', freq='T')"
      ]
     },
     "execution_count": 27,
     "metadata": {},
     "output_type": "execute_result"
    }
   ],
   "source": [
    "index"
   ]
  },
  {
   "cell_type": "code",
   "execution_count": 28,
   "metadata": {
    "collapsed": true
   },
   "outputs": [],
   "source": [
    "series = pd.Series(range(9), index=index)"
   ]
  },
  {
   "cell_type": "code",
   "execution_count": 29,
   "metadata": {},
   "outputs": [
    {
     "data": {
      "text/plain": [
       "2000-01-01 00:00:00     3\n",
       "2000-01-01 00:03:00    12\n",
       "2000-01-01 00:06:00    21\n",
       "Freq: 3T, dtype: int64"
      ]
     },
     "execution_count": 29,
     "metadata": {},
     "output_type": "execute_result"
    }
   ],
   "source": [
    "series.resample('3T').sum()"
   ]
  },
  {
   "cell_type": "code",
   "execution_count": 30,
   "metadata": {
    "collapsed": true
   },
   "outputs": [],
   "source": [
    "index = pd.date_range('1/1/2000', periods=79, freq='T')"
   ]
  },
  {
   "cell_type": "code",
   "execution_count": 31,
   "metadata": {},
   "outputs": [
    {
     "data": {
      "text/plain": [
       "DatetimeIndex(['2000-01-01 00:00:00', '2000-01-01 00:01:00',\n",
       "               '2000-01-01 00:02:00', '2000-01-01 00:03:00',\n",
       "               '2000-01-01 00:04:00', '2000-01-01 00:05:00',\n",
       "               '2000-01-01 00:06:00', '2000-01-01 00:07:00',\n",
       "               '2000-01-01 00:08:00', '2000-01-01 00:09:00',\n",
       "               '2000-01-01 00:10:00', '2000-01-01 00:11:00',\n",
       "               '2000-01-01 00:12:00', '2000-01-01 00:13:00',\n",
       "               '2000-01-01 00:14:00', '2000-01-01 00:15:00',\n",
       "               '2000-01-01 00:16:00', '2000-01-01 00:17:00',\n",
       "               '2000-01-01 00:18:00', '2000-01-01 00:19:00',\n",
       "               '2000-01-01 00:20:00', '2000-01-01 00:21:00',\n",
       "               '2000-01-01 00:22:00', '2000-01-01 00:23:00',\n",
       "               '2000-01-01 00:24:00', '2000-01-01 00:25:00',\n",
       "               '2000-01-01 00:26:00', '2000-01-01 00:27:00',\n",
       "               '2000-01-01 00:28:00', '2000-01-01 00:29:00',\n",
       "               '2000-01-01 00:30:00', '2000-01-01 00:31:00',\n",
       "               '2000-01-01 00:32:00', '2000-01-01 00:33:00',\n",
       "               '2000-01-01 00:34:00', '2000-01-01 00:35:00',\n",
       "               '2000-01-01 00:36:00', '2000-01-01 00:37:00',\n",
       "               '2000-01-01 00:38:00', '2000-01-01 00:39:00',\n",
       "               '2000-01-01 00:40:00', '2000-01-01 00:41:00',\n",
       "               '2000-01-01 00:42:00', '2000-01-01 00:43:00',\n",
       "               '2000-01-01 00:44:00', '2000-01-01 00:45:00',\n",
       "               '2000-01-01 00:46:00', '2000-01-01 00:47:00',\n",
       "               '2000-01-01 00:48:00', '2000-01-01 00:49:00',\n",
       "               '2000-01-01 00:50:00', '2000-01-01 00:51:00',\n",
       "               '2000-01-01 00:52:00', '2000-01-01 00:53:00',\n",
       "               '2000-01-01 00:54:00', '2000-01-01 00:55:00',\n",
       "               '2000-01-01 00:56:00', '2000-01-01 00:57:00',\n",
       "               '2000-01-01 00:58:00', '2000-01-01 00:59:00',\n",
       "               '2000-01-01 01:00:00', '2000-01-01 01:01:00',\n",
       "               '2000-01-01 01:02:00', '2000-01-01 01:03:00',\n",
       "               '2000-01-01 01:04:00', '2000-01-01 01:05:00',\n",
       "               '2000-01-01 01:06:00', '2000-01-01 01:07:00',\n",
       "               '2000-01-01 01:08:00', '2000-01-01 01:09:00',\n",
       "               '2000-01-01 01:10:00', '2000-01-01 01:11:00',\n",
       "               '2000-01-01 01:12:00', '2000-01-01 01:13:00',\n",
       "               '2000-01-01 01:14:00', '2000-01-01 01:15:00',\n",
       "               '2000-01-01 01:16:00', '2000-01-01 01:17:00',\n",
       "               '2000-01-01 01:18:00'],\n",
       "              dtype='datetime64[ns]', freq='T')"
      ]
     },
     "execution_count": 31,
     "metadata": {},
     "output_type": "execute_result"
    }
   ],
   "source": [
    "index"
   ]
  },
  {
   "cell_type": "code",
   "execution_count": 32,
   "metadata": {
    "collapsed": true
   },
   "outputs": [],
   "source": [
    " series = pd.Series(range(79), index=index)"
   ]
  },
  {
   "cell_type": "code",
   "execution_count": 33,
   "metadata": {},
   "outputs": [
    {
     "data": {
      "text/plain": [
       "2000-01-01 00:00:00     0\n",
       "2000-01-01 00:01:00     1\n",
       "2000-01-01 00:02:00     2\n",
       "2000-01-01 00:03:00     3\n",
       "2000-01-01 00:04:00     4\n",
       "2000-01-01 00:05:00     5\n",
       "2000-01-01 00:06:00     6\n",
       "2000-01-01 00:07:00     7\n",
       "2000-01-01 00:08:00     8\n",
       "2000-01-01 00:09:00     9\n",
       "2000-01-01 00:10:00    10\n",
       "2000-01-01 00:11:00    11\n",
       "2000-01-01 00:12:00    12\n",
       "2000-01-01 00:13:00    13\n",
       "2000-01-01 00:14:00    14\n",
       "2000-01-01 00:15:00    15\n",
       "2000-01-01 00:16:00    16\n",
       "2000-01-01 00:17:00    17\n",
       "2000-01-01 00:18:00    18\n",
       "2000-01-01 00:19:00    19\n",
       "2000-01-01 00:20:00    20\n",
       "2000-01-01 00:21:00    21\n",
       "2000-01-01 00:22:00    22\n",
       "2000-01-01 00:23:00    23\n",
       "2000-01-01 00:24:00    24\n",
       "2000-01-01 00:25:00    25\n",
       "2000-01-01 00:26:00    26\n",
       "2000-01-01 00:27:00    27\n",
       "2000-01-01 00:28:00    28\n",
       "2000-01-01 00:29:00    29\n",
       "                       ..\n",
       "2000-01-01 00:49:00    49\n",
       "2000-01-01 00:50:00    50\n",
       "2000-01-01 00:51:00    51\n",
       "2000-01-01 00:52:00    52\n",
       "2000-01-01 00:53:00    53\n",
       "2000-01-01 00:54:00    54\n",
       "2000-01-01 00:55:00    55\n",
       "2000-01-01 00:56:00    56\n",
       "2000-01-01 00:57:00    57\n",
       "2000-01-01 00:58:00    58\n",
       "2000-01-01 00:59:00    59\n",
       "2000-01-01 01:00:00    60\n",
       "2000-01-01 01:01:00    61\n",
       "2000-01-01 01:02:00    62\n",
       "2000-01-01 01:03:00    63\n",
       "2000-01-01 01:04:00    64\n",
       "2000-01-01 01:05:00    65\n",
       "2000-01-01 01:06:00    66\n",
       "2000-01-01 01:07:00    67\n",
       "2000-01-01 01:08:00    68\n",
       "2000-01-01 01:09:00    69\n",
       "2000-01-01 01:10:00    70\n",
       "2000-01-01 01:11:00    71\n",
       "2000-01-01 01:12:00    72\n",
       "2000-01-01 01:13:00    73\n",
       "2000-01-01 01:14:00    74\n",
       "2000-01-01 01:15:00    75\n",
       "2000-01-01 01:16:00    76\n",
       "2000-01-01 01:17:00    77\n",
       "2000-01-01 01:18:00    78\n",
       "Freq: T, Length: 79, dtype: int64"
      ]
     },
     "execution_count": 33,
     "metadata": {},
     "output_type": "execute_result"
    }
   ],
   "source": [
    "series"
   ]
  },
  {
   "cell_type": "code",
   "execution_count": 34,
   "metadata": {},
   "outputs": [
    {
     "data": {
      "text/plain": [
       "2000-01-01 00:00:00    59\n",
       "2000-01-01 01:00:00    78\n",
       "Freq: H, dtype: int64"
      ]
     },
     "execution_count": 34,
     "metadata": {},
     "output_type": "execute_result"
    }
   ],
   "source": [
    "series.resample('H').max()"
   ]
  },
  {
   "cell_type": "code",
   "execution_count": 35,
   "metadata": {
    "scrolled": true
   },
   "outputs": [
    {
     "data": {
      "text/plain": [
       "2000-01-01 00:00:00      3\n",
       "2000-01-01 00:03:00     12\n",
       "2000-01-01 00:06:00     21\n",
       "2000-01-01 00:09:00     30\n",
       "2000-01-01 00:12:00     39\n",
       "2000-01-01 00:15:00     48\n",
       "2000-01-01 00:18:00     57\n",
       "2000-01-01 00:21:00     66\n",
       "2000-01-01 00:24:00     75\n",
       "2000-01-01 00:27:00     84\n",
       "2000-01-01 00:30:00     93\n",
       "2000-01-01 00:33:00    102\n",
       "2000-01-01 00:36:00    111\n",
       "2000-01-01 00:39:00    120\n",
       "2000-01-01 00:42:00    129\n",
       "2000-01-01 00:45:00    138\n",
       "2000-01-01 00:48:00    147\n",
       "2000-01-01 00:51:00    156\n",
       "2000-01-01 00:54:00    165\n",
       "2000-01-01 00:57:00    174\n",
       "2000-01-01 01:00:00    183\n",
       "2000-01-01 01:03:00    192\n",
       "2000-01-01 01:06:00    201\n",
       "2000-01-01 01:09:00    210\n",
       "2000-01-01 01:12:00    219\n",
       "2000-01-01 01:15:00    228\n",
       "2000-01-01 01:18:00     78\n",
       "Freq: 3T, dtype: int64"
      ]
     },
     "execution_count": 35,
     "metadata": {},
     "output_type": "execute_result"
    }
   ],
   "source": [
    "series.resample('3T').sum()"
   ]
  },
  {
   "cell_type": "code",
   "execution_count": null,
   "metadata": {
    "collapsed": true
   },
   "outputs": [],
   "source": []
  }
 ],
 "metadata": {
  "kernelspec": {
   "display_name": "Python 3",
   "language": "python",
   "name": "python3"
  },
  "language_info": {
   "codemirror_mode": {
    "name": "ipython",
    "version": 3
   },
   "file_extension": ".py",
   "mimetype": "text/x-python",
   "name": "python",
   "nbconvert_exporter": "python",
   "pygments_lexer": "ipython3",
   "version": "3.6.3"
  }
 },
 "nbformat": 4,
 "nbformat_minor": 2
}
