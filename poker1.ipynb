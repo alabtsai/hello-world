{
 "cells": [
  {
   "cell_type": "code",
   "execution_count": 7,
   "metadata": {},
   "outputs": [],
   "source": [
    "class Card:\n",
    "    \"\"\"play card\"\"\"\n",
    "    suit_names = ['Clubs', 'Diamonds', 'Hearts', 'Spades']\n",
    "    rank_names = [None, 'Ace', '2', '3','4','5','6','7','8','9','10','Jack','Queen','King']\n",
    "    def __init__(self,suit=0,rank=2):\n",
    "        self.suit=suit\n",
    "        self.rank=rank\n",
    "    def __str__(self):\n",
    "        return '%s of %s'  % (Card.rank_names[self.rank],\n",
    "                              Card.suit_names[self.suit])"
   ]
  },
  {
   "cell_type": "code",
   "execution_count": 2,
   "metadata": {},
   "outputs": [],
   "source": [
    "aa=Card(1,12)"
   ]
  },
  {
   "cell_type": "code",
   "execution_count": 3,
   "metadata": {},
   "outputs": [
    {
     "data": {
      "text/plain": [
       "__main__.Card"
      ]
     },
     "execution_count": 3,
     "metadata": {},
     "output_type": "execute_result"
    }
   ],
   "source": [
    "type(aa)"
   ]
  },
  {
   "cell_type": "code",
   "execution_count": 4,
   "metadata": {},
   "outputs": [
    {
     "name": "stdout",
     "output_type": "stream",
     "text": [
      "Queen of Diamonds\n"
     ]
    }
   ],
   "source": [
    "print(aa)"
   ]
  },
  {
   "cell_type": "code",
   "execution_count": 9,
   "metadata": {},
   "outputs": [
    {
     "data": {
      "text/plain": [
       "'Queen of Diamonds'"
      ]
     },
     "execution_count": 9,
     "metadata": {},
     "output_type": "execute_result"
    }
   ],
   "source": [
    "str(aa)"
   ]
  },
  {
   "cell_type": "code",
   "execution_count": 5,
   "metadata": {},
   "outputs": [
    {
     "data": {
      "text/plain": [
       "1"
      ]
     },
     "execution_count": 5,
     "metadata": {},
     "output_type": "execute_result"
    }
   ],
   "source": [
    "aa.suit"
   ]
  },
  {
   "cell_type": "code",
   "execution_count": 6,
   "metadata": {},
   "outputs": [
    {
     "data": {
      "text/plain": [
       "12"
      ]
     },
     "execution_count": 6,
     "metadata": {},
     "output_type": "execute_result"
    }
   ],
   "source": [
    "aa.rank"
   ]
  },
  {
   "cell_type": "code",
   "execution_count": 15,
   "metadata": {},
   "outputs": [],
   "source": [
    "class Deck:\n",
    "    def __init__(self):\n",
    "        self.cards = []\n",
    "        for suit in range(4):\n",
    "            for rank in range(1,14):\n",
    "                card=Card(suit,rank)\n",
    "                self.cards.append(card)\n",
    "    def __str__(self):\n",
    "        res=[]\n",
    "        for card in self.cards:\n",
    "            res.append(str(card))\n",
    "        return  '\\n'.join(res)"
   ]
  },
  {
   "cell_type": "code",
   "execution_count": 16,
   "metadata": {},
   "outputs": [],
   "source": [
    "dd=Deck()"
   ]
  },
  {
   "cell_type": "code",
   "execution_count": 17,
   "metadata": {},
   "outputs": [
    {
     "data": {
      "text/plain": [
       "'3 of Clubs'"
      ]
     },
     "execution_count": 17,
     "metadata": {},
     "output_type": "execute_result"
    }
   ],
   "source": [
    "str(dd.cards[2])"
   ]
  },
  {
   "cell_type": "code",
   "execution_count": 18,
   "metadata": {},
   "outputs": [
    {
     "name": "stdout",
     "output_type": "stream",
     "text": [
      "Ace of Clubs\n",
      "2 of Clubs\n",
      "3 of Clubs\n",
      "4 of Clubs\n",
      "5 of Clubs\n",
      "6 of Clubs\n",
      "7 of Clubs\n",
      "8 of Clubs\n",
      "9 of Clubs\n",
      "10 of Clubs\n",
      "Jack of Clubs\n",
      "Queen of Clubs\n",
      "King of Clubs\n",
      "Ace of Diamonds\n",
      "2 of Diamonds\n",
      "3 of Diamonds\n",
      "4 of Diamonds\n",
      "5 of Diamonds\n",
      "6 of Diamonds\n",
      "7 of Diamonds\n",
      "8 of Diamonds\n",
      "9 of Diamonds\n",
      "10 of Diamonds\n",
      "Jack of Diamonds\n",
      "Queen of Diamonds\n",
      "King of Diamonds\n",
      "Ace of Hearts\n",
      "2 of Hearts\n",
      "3 of Hearts\n",
      "4 of Hearts\n",
      "5 of Hearts\n",
      "6 of Hearts\n",
      "7 of Hearts\n",
      "8 of Hearts\n",
      "9 of Hearts\n",
      "10 of Hearts\n",
      "Jack of Hearts\n",
      "Queen of Hearts\n",
      "King of Hearts\n",
      "Ace of Spades\n",
      "2 of Spades\n",
      "3 of Spades\n",
      "4 of Spades\n",
      "5 of Spades\n",
      "6 of Spades\n",
      "7 of Spades\n",
      "8 of Spades\n",
      "9 of Spades\n",
      "10 of Spades\n",
      "Jack of Spades\n",
      "Queen of Spades\n",
      "King of Spades\n"
     ]
    }
   ],
   "source": [
    "print(dd)"
   ]
  },
  {
   "cell_type": "code",
   "execution_count": 11,
   "metadata": {},
   "outputs": [
    {
     "data": {
      "text/plain": [
       "[<__main__.Card at 0x7f562c4ff400>,\n",
       " <__main__.Card at 0x7f562c4fff28>,\n",
       " <__main__.Card at 0x7f562c4ff4a8>,\n",
       " <__main__.Card at 0x7f562c4ff3c8>,\n",
       " <__main__.Card at 0x7f562c4ff438>,\n",
       " <__main__.Card at 0x7f562c4ff208>,\n",
       " <__main__.Card at 0x7f562c4ff128>,\n",
       " <__main__.Card at 0x7f562c4ff550>,\n",
       " <__main__.Card at 0x7f562c4ff160>,\n",
       " <__main__.Card at 0x7f562c4ff588>,\n",
       " <__main__.Card at 0x7f562c4ff630>,\n",
       " <__main__.Card at 0x7f562c4ff240>,\n",
       " <__main__.Card at 0x7f562c4ff358>,\n",
       " <__main__.Card at 0x7f562c4ff2b0>,\n",
       " <__main__.Card at 0x7f562c4ff390>,\n",
       " <__main__.Card at 0x7f562c4ff198>,\n",
       " <__main__.Card at 0x7f562c4ff048>,\n",
       " <__main__.Card at 0x7f562c4ff278>,\n",
       " <__main__.Card at 0x7f562c4ff1d0>,\n",
       " <__main__.Card at 0x7f562c4ff0b8>,\n",
       " <__main__.Card at 0x7f562c4ff8d0>,\n",
       " <__main__.Card at 0x7f562c4ff828>,\n",
       " <__main__.Card at 0x7f562c4ff668>,\n",
       " <__main__.Card at 0x7f562c4ff5f8>,\n",
       " <__main__.Card at 0x7f562c4ff6a0>,\n",
       " <__main__.Card at 0x7f562c4ff860>,\n",
       " <__main__.Card at 0x7f562c4ff898>,\n",
       " <__main__.Card at 0x7f562c4ff908>,\n",
       " <__main__.Card at 0x7f562c4ff9b0>,\n",
       " <__main__.Card at 0x7f562c4ff940>,\n",
       " <__main__.Card at 0x7f562c4ff978>,\n",
       " <__main__.Card at 0x7f562c4ff6d8>,\n",
       " <__main__.Card at 0x7f562c4ff7b8>,\n",
       " <__main__.Card at 0x7f562c4ff7f0>,\n",
       " <__main__.Card at 0x7f562c4ff710>,\n",
       " <__main__.Card at 0x7f562c4ff748>,\n",
       " <__main__.Card at 0x7f562c4ff780>,\n",
       " <__main__.Card at 0x7f562c4ff9e8>,\n",
       " <__main__.Card at 0x7f562c4ffa90>,\n",
       " <__main__.Card at 0x7f562c4ffac8>,\n",
       " <__main__.Card at 0x7f562c4ffb38>,\n",
       " <__main__.Card at 0x7f562c4ffb70>,\n",
       " <__main__.Card at 0x7f562c4ffc18>,\n",
       " <__main__.Card at 0x7f562c4ffc50>,\n",
       " <__main__.Card at 0x7f562c4ffc88>,\n",
       " <__main__.Card at 0x7f562c4ffba8>,\n",
       " <__main__.Card at 0x7f562c4ffbe0>,\n",
       " <__main__.Card at 0x7f562c4ffcc0>,\n",
       " <__main__.Card at 0x7f562c4ffd68>,\n",
       " <__main__.Card at 0x7f562c4ffda0>,\n",
       " <__main__.Card at 0x7f562c4ffdd8>,\n",
       " <__main__.Card at 0x7f562c4ffcf8>]"
      ]
     },
     "execution_count": 11,
     "metadata": {},
     "output_type": "execute_result"
    }
   ],
   "source": [
    "dd.cards"
   ]
  },
  {
   "cell_type": "code",
   "execution_count": null,
   "metadata": {},
   "outputs": [],
   "source": []
  }
 ],
 "metadata": {
  "kernelspec": {
   "display_name": "Python 3",
   "language": "python",
   "name": "python3"
  },
  "language_info": {
   "codemirror_mode": {
    "name": "ipython",
    "version": 3
   },
   "file_extension": ".py",
   "mimetype": "text/x-python",
   "name": "python",
   "nbconvert_exporter": "python",
   "pygments_lexer": "ipython3",
   "version": "3.6.5"
  }
 },
 "nbformat": 4,
 "nbformat_minor": 2
}
